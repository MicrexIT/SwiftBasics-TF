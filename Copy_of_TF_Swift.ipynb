{
  "nbformat": 4,
  "nbformat_minor": 0,
  "metadata": {
    "colab": {
      "name": "Copy_of_TF_Swift.ipynb",
      "provenance": [],
      "collapsed_sections": [],
      "toc_visible": true,
      "include_colab_link": true
    },
    "kernelspec": {
      "display_name": "Swift",
      "language": "swift",
      "name": "swift"
    }
  },
  "cells": [
    {
      "cell_type": "markdown",
      "metadata": {
        "id": "view-in-github",
        "colab_type": "text"
      },
      "source": [
        "<a href=\"https://colab.research.google.com/github/MicrexIT/SwiftBasics-TF/blob/master/Copy_of_TF_Swift.ipynb\" target=\"_parent\"><img src=\"https://colab.research.google.com/assets/colab-badge.svg\" alt=\"Open In Colab\"/></a>"
      ]
    },
    {
      "cell_type": "markdown",
      "metadata": {
        "id": "yaRlEIvpBamB",
        "colab_type": "text"
      },
      "source": [
        "Swift is a new programming language incepted at Apple and currently open-source. It is designed to be safe, fast and expressive. Currently, Swift is being tested as a viable language for data science and especially deep learning. A few years ago, Google announced to be working on a swift implementation for tensorflow. [Swift for TensorFlow](https://www.tensorflow.org/swift) (S4TF) aims to solve some of the drawbacks of its Python counterpart. Whether it suceeds or not, there's everything to gain and nothing to lose by getting a basic understanding of the techonolgy.\n",
        "Therefore, I decided to write a quick introduction to Swift syntax geared toward S4TF. At the end of this guide, you will have everything you need to build together a small neural network.\n",
        "\n",
        "- constants, variables, types?(baiscs, tuples, opt?)\n",
        "- dict, array set\n",
        "- loops\n",
        "- error\n",
        "- functions (norm+closure)\n",
        "- class, sturct, enum\n",
        "- protocol, extension\n",
        "- python(np, plot)\n",
        "- tensorflow\n",
        "  1. tensor\n",
        "  2. model\n",
        "  3. training\n",
        "  4. test\n",
        "- conclusion\n",
        "\n",
        "\n",
        "\n",
        "\n"
      ]
    },
    {
      "cell_type": "markdown",
      "metadata": {
        "id": "IRoey45xwv0w",
        "colab_type": "text"
      },
      "source": [
        "# Swift"
      ]
    },
    {
      "cell_type": "markdown",
      "metadata": {
        "id": "C90AK24RDvc2",
        "colab_type": "text"
      },
      "source": [
        "## Types and variables"
      ]
    },
    {
      "cell_type": "markdown",
      "metadata": {
        "id": "inyL7VsVCqU8",
        "colab_type": "text"
      },
      "source": [
        "https://docs.swift.org/swift-book/LanguageGuide/TheBasics.html\n",
        "Coming from a Python, Java or JS background, Swift shouldn't be a tough language to learn. Unlike Python and JS, Swift lang is statically-typed. In other words, the type of a variable is known at compile-time instead of at run-time.\n",
        "\n",
        "For instance, Swift provides Int for integers, Double and Float for floating-point values, Bool for Boolean values, and String for textual data. Swift also provides powerful versions of the three primary collection types, Array, Set, and Dictionary, as described in Collection Types. Swift also introduces tuples which enable you to create and pass around groupings of values. You can use a tuple to return multiple values from a function as a single compound value.\n",
        "\n",
        "Swift also offers two in-built immutability which makes code safer and clearer in intent when working with values that don’t need to change. Moreover, it also let you work with optional types which handle the contingent absence of a value: either there is a value, and it equals **something**, or there isn’t a value at all, and it equals **nil**.\n"
      ]
    },
    {
      "cell_type": "markdown",
      "metadata": {
        "id": "qqedlFt8CRM7",
        "colab_type": "text"
      },
      "source": [
        "Swift is a **type-safe language**, which means the language helps you to be clear about the types of values your code can work with. If part of your code requires a String, type safety prevents you from passing it an Int by mistake. Likewise, type safety prevents you from accidentally passing an optional String to a piece of code that requires a non-optional String. Type safety helps you catch and fix errors as early as possible in the development process."
      ]
    },
    {
      "cell_type": "markdown",
      "metadata": {
        "id": "OihtZA6QhEZS",
        "colab_type": "text"
      },
      "source": [
        "**Defining constants and variables**"
      ]
    },
    {
      "cell_type": "markdown",
      "metadata": {
        "id": "f99Q7zR3yE9u",
        "colab_type": "text"
      },
      "source": [
        "In Swift you can declare variables with the keywords ```let``` and ```var```. The former is used to declare immutable variables whereas the latter is used to declare mutable variables. \n",
        "https://docs.swift.org/swift-book/LanguageGuide/TheBasics.html"
      ]
    },
    {
      "cell_type": "code",
      "metadata": {
        "id": "j1nclwFOx-2H",
        "colab_type": "code",
        "colab": {}
      },
      "source": [
        "let x = 42.0 // immutable variable\n",
        "// x = 21.5 this will throw an error\n",
        "var y = 0   // can mutate\n",
        "y = 42"
      ],
      "execution_count": 0,
      "outputs": []
    },
    {
      "cell_type": "markdown",
      "metadata": {
        "id": "-bICEm8FyOlV",
        "colab_type": "text"
      },
      "source": [
        "As you can see types are inferred when you initialize your variable. However, Swift lets you set the type at declaration by providing a *type annotation*. Let's look at some simple types you can define with Swift."
      ]
    },
    {
      "cell_type": "code",
      "metadata": {
        "id": "p_pjyevTdE18",
        "colab_type": "code",
        "outputId": "19906288-2cf9-4006-eaa6-7d2967ead721",
        "colab": {
          "base_uri": "https://localhost:8080/",
          "height": 104
        }
      },
      "source": [
        "//define types inline \n",
        "let a: Int = 1\n",
        "let b: Double = -2.0\n",
        "var c: Float = 3.0\n",
        "var d: Bool = true\n",
        "var e: String = \"Hello!\"\n",
        "\n",
        "// print w type\n",
        "print(type(of: a)) // Prints Int\n",
        "print(type(of: b)) // Prints Doube\n",
        "print(type(of: c)) // Prints Float\n",
        "print(type(of: d)) // Prints Bool\n",
        "print(type(of: e)) // Prints String\n"
      ],
      "execution_count": 0,
      "outputs": [
        {
          "output_type": "stream",
          "text": [
            "Int\r\n",
            "Double\r\n",
            "Float\r\n",
            "Bool\r\n",
            "String\r\n"
          ],
          "name": "stdout"
        }
      ]
    },
    {
      "cell_type": "markdown",
      "metadata": {
        "id": "vf2w-RWxy7_i",
        "colab_type": "text"
      },
      "source": [
        "Notice how we use the function `print()` to log something on the console. Moreover, `type()` let's us know the type of a variable.\n",
        "String in Swift are part of the standard library and have [many useful functionalities](https://developer.apple.com/documentation/swift/string) starting with String interpolation. \n",
        "\n",
        "String interpolation is used to include the name of a constant or variable as a placeholder in a longer string, and to prompt Swift to replace it with the current value of that constant or variable. Once you defined a variable, you can include it in a String using the special character ```\\(variable_goes_here)```.\n"
      ]
    },
    {
      "cell_type": "code",
      "metadata": {
        "id": "j-W3HyT9ZBOF",
        "colab_type": "code",
        "outputId": "1a66e6d9-0333-4c78-8875-6312b2f731b4",
        "colab": {
          "base_uri": "https://localhost:8080/",
          "height": 35
        }
      },
      "source": [
        "\"The answer to life is \\(y).\""
      ],
      "execution_count": 0,
      "outputs": [
        {
          "output_type": "execute_result",
          "data": {
            "text/plain": [
              "\"The answer to life is 42.\"\n"
            ]
          },
          "metadata": {
            "tags": []
          },
          "execution_count": 2
        }
      ]
    },
    {
      "cell_type": "markdown",
      "metadata": {
        "id": "KRBFK3-36V-2",
        "colab_type": "text"
      },
      "source": [
        "**Tuples**"
      ]
    },
    {
      "cell_type": "markdown",
      "metadata": {
        "id": "0cxs6jxa6cgG",
        "colab_type": "text"
      },
      "source": [
        "https://docs.swift.org/swift-book/LanguageGuide/TheBasics.html#ID329\n",
        "Tuples group multiple values into a single compound value. The values within a tuple can be of any type and don’t have to be of the same type as each other."
      ]
    },
    {
      "cell_type": "code",
      "metadata": {
        "id": "4r5fPJH46nFT",
        "colab_type": "code",
        "colab": {}
      },
      "source": [
        "let http404Error = (404, \"Not Found\")"
      ],
      "execution_count": 0,
      "outputs": []
    },
    {
      "cell_type": "markdown",
      "metadata": {
        "id": "ken9mgtV6qXY",
        "colab_type": "text"
      },
      "source": [
        "In this example, (404, \"Not Found\") is a tuple that describes an HTTP status code. An HTTP status code is a special value returned by a web server whenever you request a web page. A status code of 404 Not Found is returned if you request a webpage that doesn’t exist."
      ]
    },
    {
      "cell_type": "markdown",
      "metadata": {
        "id": "Q82fqdoX1B6g",
        "colab_type": "text"
      },
      "source": [
        "**Optionals**\n"
      ]
    },
    {
      "cell_type": "markdown",
      "metadata": {
        "id": "yc7pS4c81ACO",
        "colab_type": "text"
      },
      "source": [
        "In Swift, you can define [*optionals*](https://docs.swift.org/swift-book/LanguageGuide/TheBasics.html#ID330). You use *optionals* in situations where a value may be absent. An optional represents two possibilities: Either there is a value, and you can unwrap the optional to access that value, or there isn’t a value at all. To define an *optional*, you just need to append `?` to the variable's type declaration. For instance, an optional String would be declared as:\n",
        "```var optionalString :String?```\n",
        "It is important to remember that *Optionals* cannot be used as normal types. When there is no value at all, the *optional* value will be `nil`. `nil` is what Swift uses to represent nothing (aka `None` in Python, `null` in most languages).\n",
        "\n",
        "// IMAGE\n",
        "\n",
        "Let's see an example of *optional* in the context of a server:\n",
        "\n"
      ]
    },
    {
      "cell_type": "code",
      "metadata": {
        "id": "yG0cPlSw5PGx",
        "colab_type": "code",
        "colab": {}
      },
      "source": [
        "var serverResponseCode: Int? = 404\n",
        "// serverResponseCode contains an actual Int value of 404\n",
        "serverResponseCode = nil\n",
        "// serverResponseCode now contains no value"
      ],
      "execution_count": 0,
      "outputs": []
    },
    {
      "cell_type": "markdown",
      "metadata": {
        "id": "yTka2hG9lM_D",
        "colab_type": "text"
      },
      "source": [
        "**Array, Dictionary and Set**\n",
        "\n",
        "Initialize arrays and dictionaries"
      ]
    },
    {
      "cell_type": "markdown",
      "metadata": {
        "id": "QfPUCOMONl0h",
        "colab_type": "text"
      },
      "source": [
        "https://docs.swift.org/swift-book/LanguageGuide/CollectionTypes.html\n",
        "Swift provides three primary collection types, known as arrays, sets, and dictionaries, for storing collections of values. Arrays are ordered collections of values. Sets are unordered collections of unique values. Dictionaries are unordered collections of key-value associations.\n",
        "\n",
        "IMAGE IS COOL\n",
        "\n",
        "Arrays, sets, and dictionaries in Swift are always clear about the types of values and keys that they can store. This means that you cannot insert a value of the wrong type into a collection by mistake. It also means you can be confident about the type of values you will retrieve from a collection."
      ]
    },
    {
      "cell_type": "code",
      "metadata": {
        "id": "BI46PGfQdE2I",
        "colab_type": "code",
        "colab": {}
      },
      "source": [
        "var numbersArry = [1, 2] // array of Int\n",
        "var numbersDict = [\"one\":1, \"two\":2] // dictionary mapping String to Int\n",
        "var favoriteGenres: Set<String> = [\"Rock\", \"Classical\", \"Hip hop\"] // set of Strings"
      ],
      "execution_count": 0,
      "outputs": []
    },
    {
      "cell_type": "markdown",
      "metadata": {
        "id": "4l-kIpID_x9N",
        "colab_type": "text"
      },
      "source": [
        "You can also define empty arrays, dictionaries, and sets"
      ]
    },
    {
      "cell_type": "code",
      "metadata": {
        "id": "pZ0hFNzXdE2M",
        "colab_type": "code",
        "outputId": "8003eded-7b62-49b5-e2b3-658afcbe70f1",
        "colab": {
          "base_uri": "https://localhost:8080/",
          "height": 69
        }
      },
      "source": [
        "var langs = [String]() // empty array\n",
        "\n",
        "langs.append(\"Swift\") // append an element at the end of the array\n",
        "langs.append(\"Python\")\n",
        "\n",
        "var gpaStudent  = [String:Float]() // empty dictionary\n",
        "gpaStudent[\"Alice\"] = 4.1\n",
        "gpaStudent[\"Bob\"] = 3.9\n",
        "\n",
        "var letters = Set<Character>()\n",
        "letters.insert(\"A\")\n",
        "letters.insert(\"B\")\n",
        "letters.insert(\"C\")\n",
        "\n"
      ],
      "execution_count": 0,
      "outputs": [
        {
          "output_type": "execute_result",
          "data": {
            "text/plain": [
              "▿ 2 elements\n",
              "  - inserted : true\n",
              "  - memberAfterInsert : \"C\"\n"
            ]
          },
          "metadata": {
            "tags": []
          },
          "execution_count": 1
        }
      ]
    },
    {
      "cell_type": "markdown",
      "metadata": {
        "id": "IcyJIWOqdE2T",
        "colab_type": "text"
      },
      "source": [
        "## Control Flow"
      ]
    },
    {
      "cell_type": "markdown",
      "metadata": {
        "id": "CETRY7HGXTpv",
        "colab_type": "text"
      },
      "source": [
        "https://docs.swift.org/swift-book/LanguageGuide/ControlFlow.html\n",
        "Swift provides a variety of control flow statements. These include \n",
        "- `while` loops to perform a task multiple times\n",
        "-  `if` to execute different pieces of code based on certain conditions\n",
        "- `guard` like an if statement, executes statements depending on the Boolean value of an expression but always requires an `else` clause\n",
        "- `switch` statements to execute different branches of code based on certain conditions\n",
        "- `break` and `continue` to transfer the flow of execution to another point in your code\n",
        "- `for-in` loops to iterate over a sequence, such as items in an array, dictionaries, sets, ranges of numbers, or characters in a string\n",
        "\n",
        "\n"
      ]
    },
    {
      "cell_type": "markdown",
      "metadata": {
        "id": "qSr-NhwaZl7h",
        "colab_type": "text"
      },
      "source": [
        "**If statement**"
      ]
    },
    {
      "cell_type": "markdown",
      "metadata": {
        "id": "ab1cz1_QbrVO",
        "colab_type": "text"
      },
      "source": [
        "https://docs.swift.org/swift-book/LanguageGuide/ControlFlow.html#ID127\n",
        "Swift provides two ways to add conditional branches to your code: the if statement and the switch statement.\n",
        "\n",
        "\n",
        "\n",
        "\n"
      ]
    },
    {
      "cell_type": "markdown",
      "metadata": {
        "id": "yAcHaFlnc5r_",
        "colab_type": "text"
      },
      "source": [
        "The if statement executes a set of statements only if that condition is true.\n"
      ]
    },
    {
      "cell_type": "code",
      "metadata": {
        "id": "lJJdwxuEc8vR",
        "colab_type": "code",
        "outputId": "d5282bb6-ddd2-4d5a-ec50-ab6bf27b262a",
        "colab": {
          "base_uri": "https://localhost:8080/",
          "height": 52
        }
      },
      "source": [
        "let name = \"Bob\"\n",
        "if (name == \"Bob\") {\n",
        "  print(\"Hello, Bob 🙂\")\n",
        "} else {\n",
        "  print(\"Hello, you 😅\")\n",
        "}\n",
        "\n",
        "print(\"Bye!\")\n",
        "// Prints Hello, Bob 🙂"
      ],
      "execution_count": 0,
      "outputs": [
        {
          "output_type": "stream",
          "text": [
            "Hello, Bob 🙂\r\n",
            "Bye!\r\n"
          ],
          "name": "stdout"
        }
      ]
    },
    {
      "cell_type": "markdown",
      "metadata": {
        "id": "Y3ZLXs8L8oHd",
        "colab_type": "text"
      },
      "source": [
        "**Switch statement**"
      ]
    },
    {
      "cell_type": "markdown",
      "metadata": {
        "id": "EXMpshSSdZTs",
        "colab_type": "text"
      },
      "source": [
        "The switch statement compares a value against one or more values of the same type."
      ]
    },
    {
      "cell_type": "code",
      "metadata": {
        "id": "SDn8sXOkdZp4",
        "colab_type": "code",
        "colab": {}
      },
      "source": [
        "let someCharacter: Character = \"z\"\n",
        "switch someCharacter {\n",
        "case \"a\":\n",
        "    print(\"The first letter of the alphabet\")\n",
        "case \"z\":\n",
        "    print(\"The last letter of the alphabet\")\n",
        "default:\n",
        "    print(\"Some other character\")\n",
        "}\n",
        "// Prints The last letter of the alphabet"
      ],
      "execution_count": 0,
      "outputs": []
    },
    {
      "cell_type": "markdown",
      "metadata": {
        "id": "J7xMhNRqdZ4x",
        "colab_type": "text"
      },
      "source": [
        "**Guard**"
      ]
    },
    {
      "cell_type": "markdown",
      "metadata": {
        "id": "BY5ortzIowQX",
        "colab_type": "text"
      },
      "source": [
        "\n",
        "\n",
        "\n",
        "https://docs.swift.org/swift-book/LanguageGuide/ControlFlow.html#ID525\n",
        "The guard statement, like an if statement, executes statements depending on the Boolean value of an expression. Unlike an if statement, a guard statement always has an else clause—the code inside the else clause is executed if the condition is not true. You use a guard statement to require that a condition must be true in order for the code after the guard statement to be executed. You can think of the guard as a protecting your code from buggy behaviour such as when a variable has to be defined for the function to continue or when a user has to be authenticated. \n",
        "\n",
        "In the example below we use a `guard` inside a function and return early if a condition is not met. Do not pay too much attention at the function syntax which will be covered later. Instead, notice that the function takes a parameter `person` which is an `optional String`. Then, in the function, we check whether that person contains a name or it's just a `nil` value.\n"
      ]
    },
    {
      "cell_type": "code",
      "metadata": {
        "id": "GoW4HyqzdaC3",
        "colab_type": "code",
        "outputId": "dee3af3c-61e0-4988-c929-6ec21634736d",
        "colab": {
          "base_uri": "https://localhost:8080/",
          "height": 52
        }
      },
      "source": [
        "func letIn(person: String?) {\n",
        "    guard let name = person else {\n",
        "        print(\"I only let in humans with a name.\")\n",
        "        return\n",
        "    }\n",
        "\n",
        "    print(\"Hello, \\(name).\")\n",
        "}\n",
        "\n",
        "letIn(person: nil)\n",
        "// Prints \"I only let in humans with a name.\"\n",
        "\n",
        "letIn(person: \"Alice\")\n",
        "// Prints \"Hello Alice!\""
      ],
      "execution_count": 0,
      "outputs": [
        {
          "output_type": "stream",
          "text": [
            "I only let in humans with a name.\r\n",
            "Hello, Alice.\r\n"
          ],
          "name": "stdout"
        }
      ]
    },
    {
      "cell_type": "markdown",
      "metadata": {
        "id": "fBMjrbSTYmFN",
        "colab_type": "text"
      },
      "source": [
        "**For-in loop**"
      ]
    },
    {
      "cell_type": "markdown",
      "metadata": {
        "id": "EdNvbKfkYtc_",
        "colab_type": "text"
      },
      "source": [
        "[For loops](https://docs.swift.org/swift-book/LanguageGuide/ControlFlow.html#ID121) in Swift are straight forward.\n",
        "\n",
        "The following example uses a for-in loop to iterate over the items in an array and a for-in loop to iterate over a range of numbers\n",
        "\n"
      ]
    },
    {
      "cell_type": "code",
      "metadata": {
        "id": "QhcmCbQydE2U",
        "colab_type": "code",
        "outputId": "fee5bd0d-e4b6-4e7f-a128-3dd136ba70db",
        "colab": {
          "base_uri": "https://localhost:8080/",
          "height": 121
        }
      },
      "source": [
        "let numbers = [1, 2, 3, 4]\n",
        "print(\"Loop through array\")\n",
        "for x in numbers {\n",
        "  if x > 2{\n",
        "    print(\"\\(x) > 2\")\n",
        "  }\n",
        "}\n",
        "/** Prints\n",
        "Loop through array\n",
        "3 > 2\n",
        "4 > 2\n",
        "*/\n",
        "\n",
        "print(\"Loop through range\")\n",
        "for x in 1...4 {\n",
        "  if x > 2{\n",
        "    print(\"\\(x) > 2\")\n",
        "  }\n",
        "}\n",
        "/** Prints\n",
        "Loop through range\n",
        "3 > 2\n",
        "4 > 2\n",
        "*/\n"
      ],
      "execution_count": 0,
      "outputs": [
        {
          "output_type": "stream",
          "text": [
            "Loop through array\r\n",
            "3 > 2\r\n",
            "4 > 2\r\n",
            "Loop through range\r\n",
            "3 > 2\r\n",
            "4 > 2\r\n"
          ],
          "name": "stdout"
        }
      ]
    },
    {
      "cell_type": "markdown",
      "metadata": {
        "id": "PLZNCfcQZ5HI",
        "colab_type": "text"
      },
      "source": [
        "The two loops above are identical. The range operator used above is called closed range operator `startingNumber... endNumber`. It includes starting and end number of the range. To exclude the last number, you can use the half-open range operator `startingNumber...<endNumber`\n",
        "\n",
        "For more about ranges, see [Range Operators](https://docs.swift.org/swift-book/LanguageGuide/BasicOperators.html#ID73)."
      ]
    },
    {
      "cell_type": "markdown",
      "metadata": {
        "id": "XjYMh1DKbBSn",
        "colab_type": "text"
      },
      "source": [
        "**While loop**\n"
      ]
    },
    {
      "cell_type": "markdown",
      "metadata": {
        "id": "B8qZMjOibJFn",
        "colab_type": "text"
      },
      "source": [
        "[While loops](https://docs.swift.org/swift-book/LanguageGuide/ControlFlow.html#ID124) work as in most programming languages. "
      ]
    },
    {
      "cell_type": "code",
      "metadata": {
        "id": "tt54-NuJdE2m",
        "colab_type": "code",
        "outputId": "799c1086-374f-4157-8ef4-7911428d06e0",
        "colab": {
          "base_uri": "https://localhost:8080/",
          "height": 34
        }
      },
      "source": [
        "var n = 2\n",
        "while n < 100 {\n",
        "    n = n * 2\n",
        "}"
      ],
      "execution_count": 0,
      "outputs": [
        {
          "output_type": "execute_result",
          "data": {
            "text/plain": [
              "128\n"
            ]
          },
          "metadata": {
            "tags": []
          },
          "execution_count": 67
        }
      ]
    },
    {
      "cell_type": "markdown",
      "metadata": {
        "id": "MBo23Xbj0W2T",
        "colab_type": "text"
      },
      "source": [
        "1...\n",
        "\n",
        "1.   1...4\n",
        "2.   1..< 4\n",
        "\n"
      ]
    },
    {
      "cell_type": "markdown",
      "metadata": {
        "id": "W7H3ptGaiEcB",
        "colab_type": "text"
      },
      "source": [
        "## Functions\n",
        "\n",
        "[Functions](https://docs.swift.org/swift-book/LanguageGuide/Functions.html) are always prefixed with the `func` keyword.\n",
        "\n",
        "// IMAGE\n",
        "\n",
        "Each function parameter has both an argument label and a parameter name. The argument label is used when calling the function. The parameter name is used in the implementation of the function. **By default, parameters use their parameter name as their argument label.**\n",
        "\n",
        "Here we define a function that adds two integers. By using _ we don't have to use the variable names for function calls "
      ]
    },
    {
      "cell_type": "code",
      "metadata": {
        "id": "sgYex6gigH87",
        "colab_type": "code",
        "outputId": "51a5eb8a-977c-4aaa-d024-3e7b067e0408",
        "colab": {
          "base_uri": "https://localhost:8080/",
          "height": 35
        }
      },
      "source": [
        "func add(_ x: Int , _ y: Int) -> Int {\n",
        "  return x + y\n",
        "}\n",
        "\n",
        "func add2(x: Int, y: Int) -> Int {\n",
        "  return x + y\n",
        "}\n",
        "\n",
        "func add3(first x: Int, second y: Int) -> Int {\n",
        "  // return first + second // The compiler will complain\n",
        "  return x + y\n",
        "}\n",
        "\n",
        "// Check if functions return the same\n",
        "print(add(2, 3) == add2(x: 2,y: 3) && add(2,3) == add3(first: 2,second: 3))\n",
        "// Prints true\n"
      ],
      "execution_count": 0,
      "outputs": [
        {
          "output_type": "stream",
          "text": [
            "true\r\n"
          ],
          "name": "stdout"
        }
      ]
    },
    {
      "cell_type": "markdown",
      "metadata": {
        "id": "aAdSAMNmHGP-",
        "colab_type": "text"
      },
      "source": [
        "With labels, the function call can be made more expressive.\n",
        "You can also return many multiple values from a function\n"
      ]
    },
    {
      "cell_type": "code",
      "metadata": {
        "id": "_GmR2pwxHNGq",
        "colab_type": "code",
        "outputId": "b4955e38-443c-4d84-be6b-b95adb0ce637",
        "colab": {
          "base_uri": "https://localhost:8080/",
          "height": 35
        }
      },
      "source": [
        "// returning an array\n",
        "func range(from start:Int , to end:Int) -> [Double]{\n",
        "  var out = [Double]()\n",
        "  \n",
        "  for num in start...end{\n",
        "    // we converti num from int to double\n",
        "    out.append(Double(num))\n",
        "  }\n",
        "  return out\n",
        "}\n",
        "\n",
        "// returning a tuple\n",
        "func mean_variance(_ scores: [Double]) -> (mean: Double, variance: Double){\n",
        "  \n",
        "  var mean: Double = 0\n",
        "  var variance: Double = 0\n",
        "  let count: Double = Double(scores.count)\n",
        "  for x in scores{\n",
        "    mean += (x/count)\n",
        "  }\n",
        "  \n",
        "  for x in scores{\n",
        "    variance += (x - mean)*(x - mean)/count\n",
        "  }\n",
        "  \n",
        "  return (mean, variance)\n",
        "}\n",
        "\n",
        "\n",
        "let scores = range(from:2, to:5)\n",
        "print(mean_variance(scores))\n",
        "// Prints (mean: 3.5, variance: 1.25)"
      ],
      "execution_count": 0,
      "outputs": [
        {
          "output_type": "stream",
          "text": [
            "(mean: 3.5, variance: 1.25)\r\n"
          ],
          "name": "stdout"
        }
      ]
    },
    {
      "cell_type": "markdown",
      "metadata": {
        "id": "lLPjckUyOcFk",
        "colab_type": "text"
      },
      "source": [
        "Function parameters are constants by default. Trying to change the value of a function parameter from within the body of that function results in a compile-time error. \n",
        "Use `inout` to update the value of a variable and use `&` to pass by reference "
      ]
    },
    {
      "cell_type": "code",
      "metadata": {
        "id": "jF9jqUjxObp7",
        "colab_type": "code",
        "outputId": "aa901775-ccae-4333-f592-85cd30e5cb7f",
        "colab": {
          "base_uri": "https://localhost:8080/",
          "height": 35
        }
      },
      "source": [
        "func happyBirthday(_ age:inout Int){\n",
        "  age = age + 1\n",
        "}\n",
        "\n",
        "var age:Int = 26\n",
        "happyBirthday(&age)\n",
        "\n",
        "print(age)\n",
        "// Prints 27"
      ],
      "execution_count": 0,
      "outputs": [
        {
          "output_type": "stream",
          "text": [
            "27\r\n"
          ],
          "name": "stdout"
        }
      ]
    },
    {
      "cell_type": "markdown",
      "metadata": {
        "id": "_RaqVgDrnT_F",
        "colab_type": "text"
      },
      "source": [
        "**Closures**"
      ]
    },
    {
      "cell_type": "markdown",
      "metadata": {
        "id": "gcavmkBEnYG2",
        "colab_type": "text"
      },
      "source": [
        "Closures are self-contained blocks of functionality that can be passed around and used in your code. You might know them as lambdas in Python. The term closure is often used as a synonym for anonymous function (though strictly, an anonymous function is a function literal without a name, while a closure is an instance of a function, a value).\n",
        "Closures are extensively used in functional programming but also in modern programming languages such as Python and Rust. A closure can be used to associate a function with a set of \"private\" variables, which persist over several invocations of the function. \n",
        "\n",
        "// SWIFT SYNTAX IMAGE\n",
        " { (parameters) -> return type in\n",
        "    statements\n",
        "}\n",
        "\n",
        "\n",
        "\n",
        "Closures can be used as inputs to functions\n"
      ]
    },
    {
      "cell_type": "code",
      "metadata": {
        "id": "dZym3v9fo7rM",
        "colab_type": "code",
        "outputId": "fab28b2e-b9e7-4ca0-91e9-c6797918034e",
        "colab": {
          "base_uri": "https://localhost:8080/",
          "height": 86
        }
      },
      "source": [
        "var squareClosure  = {\n",
        "  (num:Int) -> Int in \n",
        "  return num*num\n",
        "}\n",
        "\n",
        "squareClosure(2)\n",
        "// Prints 4\n",
        "\n",
        "func squareNumbers(numbers:[Int], closure:(_ num:Int) -> Int) -> [Int]{\n",
        "  \n",
        "  var result = [Int]()\n",
        "  \n",
        "  for num in numbers{\n",
        "    result.append(closure(num))\n",
        "  }\n",
        "  \n",
        "  return result\n",
        "}\n",
        "\n",
        "squareNumbers(numbers:[2, 3, 4], closure:squareClosure)\n",
        "/** Prints\n",
        "▿ 3 elements\n",
        "  - 0 : 4\n",
        "  - 1 : 9\n",
        "  - 2 : 16\n",
        "  **/"
      ],
      "execution_count": 0,
      "outputs": [
        {
          "output_type": "execute_result",
          "data": {
            "text/plain": [
              "▿ 3 elements\n",
              "  - 0 : 4\n",
              "  - 1 : 9\n",
              "  - 2 : 16\n"
            ]
          },
          "metadata": {
            "tags": []
          },
          "execution_count": 56
        }
      ]
    },
    {
      "cell_type": "markdown",
      "metadata": {
        "id": "wmJn60c4o-lq",
        "colab_type": "text"
      },
      "source": [
        "MAP, REDUCE -> Arrays\n",
        "Good moment to introduce..."
      ]
    },
    {
      "cell_type": "code",
      "metadata": {
        "id": "JowvdkuPpUo8",
        "colab_type": "code",
        "outputId": "f852baae-67e2-4fe0-f98c-28c36d6207f3",
        "colab": {
          "base_uri": "https://localhost:8080/",
          "height": 35
        }
      },
      "source": [
        "let names = [\"Joe\", \"Tyson\",\"Alice\", \"Bob\", \"Marta\"]\n",
        "let reversedNames = names.sorted(by: { (s1: String, s2: String) -> Bool in\n",
        "    return s1 > s2\n",
        "})\n",
        "print(reversedNames)\n",
        "// Prints [\"Tyson\", \"Marta\", \"Joe\", \"Bob\", \"Alice\"]"
      ],
      "execution_count": 0,
      "outputs": [
        {
          "output_type": "stream",
          "text": [
            "[\"Tyson\", \"Marta\", \"Joe\", \"Bob\", \"Alice\"]\r\n"
          ],
          "name": "stdout"
        }
      ]
    },
    {
      "cell_type": "markdown",
      "metadata": {
        "id": "Gjn94k3QB9y2",
        "colab_type": "text"
      },
      "source": [
        "## Enumerations"
      ]
    },
    {
      "cell_type": "markdown",
      "metadata": {
        "id": "KUiSxlaRCAzZ",
        "colab_type": "text"
      },
      "source": [
        "Generally, an enumeration represents one of a few different choices. It defines a common type for a group of related values and enables you to work with those values in a type-safe way within your code. If a value (known as a raw value) is provided for each enumeration case, the value can be a string, a character, or a value of any integer or floating-point type.\n",
        "\n",
        "\n",
        "You introduce enumerations with the `enum` keyword and place their entire definition within a pair of braces:"
      ]
    },
    {
      "cell_type": "code",
      "metadata": {
        "id": "oaEbCd8aEzft",
        "colab_type": "code",
        "colab": {}
      },
      "source": [
        "\n",
        "enum Choices {\n",
        "    case spaghetti\n",
        "    case salad([String])\n",
        "    case meat(String) // this case contains a message of type String\n",
        "}"
      ],
      "execution_count": 0,
      "outputs": []
    },
    {
      "cell_type": "markdown",
      "metadata": {
        "id": "MMkjEN_9G7gX",
        "colab_type": "text"
      },
      "source": [
        "As you can see above, some `case` in the `enum` can contain payloads (additional information).\n",
        "You can use a `switch` statement to loop throuh the `enum` cases:"
      ]
    },
    {
      "cell_type": "code",
      "metadata": {
        "id": "RIKFTHr8G5SL",
        "colab_type": "code",
        "outputId": "aa3bddd0-24ec-4dc0-f148-331d7a9cb93c",
        "colab": {
          "base_uri": "https://localhost:8080/",
          "height": 35
        }
      },
      "source": [
        "var choice = Choices.salad([\"pepper\", \"olive oil\", \"cherry tomatoes\", \"avocado\"])\n",
        "\n",
        "switch choice {\n",
        "case .spaghetti:\n",
        "    print(\"Great choice!\")\n",
        "case .salad(let ingredients):\n",
        "    print(\"A salad with \\(ingredients.joined(separator: \", \"))...ok sounds delicious\")\n",
        "case .meat(_):\n",
        "    print(\"We don't serve any meat here sorry\")\n",
        "}\n",
        "\n",
        "// Prints A salad with pepper, olive oil, cherry tomatoes, avocado...ok sounds delicious"
      ],
      "execution_count": 0,
      "outputs": [
        {
          "output_type": "stream",
          "text": [
            "A salad with pepper, olive oil, cherry tomatoes, avocado...ok sounds delicious\r\n"
          ],
          "name": "stdout"
        }
      ]
    },
    {
      "cell_type": "markdown",
      "metadata": {
        "id": "BfV1d5HpdE3K",
        "colab_type": "text"
      },
      "source": [
        "## Structures and Classes\n"
      ]
    },
    {
      "cell_type": "markdown",
      "metadata": {
        "id": "u8TcLns_95iN",
        "colab_type": "text"
      },
      "source": [
        "\n",
        "Structures and classes are good choices for storing data and modeling behavior in your apps, but their similarities can make it difficult to choose one over the other.\n",
        "\n",
        "In doubt, Apple recommends to use structures by default. Classes in Swift come with a built-in notion of identity because they're reference types. This means that when two different class instances have the same value for each of their stored properties, they're still considered to be different by the identity operator (===). \n",
        "\n",
        "Visit [here](https://developer.apple.com/documentation/swift/choosing_between_structures_and_classes) to learn more.\n",
        "\n",
        "Structures and classes have a similar definition syntax. You introduce structures with the struct keyword and classes with the class keyword. Both place their entire definition within a pair of braces:"
      ]
    },
    {
      "cell_type": "code",
      "metadata": {
        "id": "mzyk2iV7atrl",
        "colab_type": "code",
        "outputId": "c30beb99-8435-4548-f551-2e4162ea4544",
        "colab": {
          "base_uri": "https://localhost:8080/",
          "height": 52
        }
      },
      "source": [
        "class MathematicStudent {\n",
        "  var name: String = \"\"\n",
        "  var age : Int = 0 \n",
        "  \n",
        "  init(name: String, age: Int) {\n",
        "    self.name = name\n",
        "    self.age = age \n",
        "  }\n",
        "}\n",
        "\n",
        "struct ComputerStudent {\n",
        "  var name: String = \"\"\n",
        "  var age : Int = 0 \n",
        "  \n",
        "  init(name: String, age: Int) {\n",
        "    self.name = name\n",
        "    self.age = age \n",
        "  }\n",
        "\n",
        "}\n",
        "\n",
        "let person1 = MathematicStudent(name:\"Alice\", age: 27)\n",
        "print(\"Math student: \\(person1.name).\")\n",
        "// Prints Math student: Alice.\n",
        "\n",
        "let person2 = ComputerStudent(name:\"Bob\", age: 21)\n",
        "print(\"CS student: \\(person2.name).\")\n",
        "// Prints CS student: Bob."
      ],
      "execution_count": 0,
      "outputs": [
        {
          "output_type": "stream",
          "text": [
            "Math student: Alice.\r\n",
            "CS student: Bob.\r\n"
          ],
          "name": "stdout"
        }
      ]
    },
    {
      "cell_type": "markdown",
      "metadata": {
        "id": "QNgQSRY5A8zD",
        "colab_type": "text"
      },
      "source": [
        "Structures and Classes are a vast topic and I personally don't see the use of diving deep into it until strictly necessary. However, you can find more informations on [the official documentation](https://docs.swift.org/swift-book/LanguageGuide/ClassesAndStructures.html)."
      ]
    },
    {
      "cell_type": "markdown",
      "metadata": {
        "id": "2dHlqpeQSfvX",
        "colab_type": "text"
      },
      "source": [
        "## Extensions and Protocols\n",
        "\n",
        "A protocol defines requirements that suit a particular task or piece of functionality.\n",
        "A class,  structure, or an enumeration can then adopt the protocol to provide an actual implementation of those requirements. \n",
        "Any type that satisfies the requirements of a protocol is said to **conform to that protocol**.\n",
        "\n",
        "\n"
      ]
    },
    {
      "cell_type": "code",
      "metadata": {
        "id": "T419e6qcTpYZ",
        "colab_type": "code",
        "colab": {}
      },
      "source": [
        "protocol Student {\n",
        "  func getDegree() -> String\n",
        "}"
      ],
      "execution_count": 0,
      "outputs": []
    },
    {
      "cell_type": "markdown",
      "metadata": {
        "id": "aQRhXscNS0L3",
        "colab_type": "text"
      },
      "source": [
        ""
      ]
    },
    {
      "cell_type": "markdown",
      "metadata": {
        "id": "ZrnENPbnSyak",
        "colab_type": "text"
      },
      "source": [
        "Extensions add new functionality to an existing class, structure, enumeration, or protocol type. \n",
        "Extensions are great when you need to add properties to existing types:\n"
      ]
    },
    {
      "cell_type": "code",
      "metadata": {
        "id": "EZJ_tiHDMGtu",
        "colab_type": "code",
        "outputId": "ea332326-c65a-41f2-b041-310978fa0359",
        "colab": {
          "base_uri": "https://localhost:8080/",
          "height": 52
        }
      },
      "source": [
        "extension Double {\n",
        "    // Swift self is a special property of an instance \n",
        "    // that holds the instance itself\n",
        "    var celsius: Double { return self }\n",
        "    var fahrenheit: Double { return (self - 32.0) * 5.0 / 9.0}\n",
        "    var kelvin: Double { return self - 273.15 }\n",
        "}\n",
        "\n",
        "var temperature = 95.fahrenheit\n",
        "print(\"100 degrees Fahrenheit is \\(temperature) degrees Celsius\")\n",
        "// Prints 100 degrees Fahrenheit is 35.0 degrees Celsius\n",
        "\n",
        "extension Int {\n",
        "  var isOdd : Bool { return self & 1 != 0 } // & is a bitwise operation\n",
        "}\n",
        "\n",
        "extension Bool {\n",
        "  var symbol : String { return self ? \"👍\" : \"👎\" }\n",
        "}\n",
        "\n",
        "var three = 3\n",
        "print(three.isOdd.symbol)\n",
        "// Prints 👍\n",
        "  \n"
      ],
      "execution_count": 0,
      "outputs": [
        {
          "output_type": "stream",
          "text": [
            "100 degrees Fahrenheit is 35.0 degrees Celsius\r\n",
            "👍\r\n"
          ],
          "name": "stdout"
        }
      ]
    },
    {
      "cell_type": "markdown",
      "metadata": {
        "id": "ItBzguGBUpv1",
        "colab_type": "text"
      },
      "source": [
        "⚠️ Any function that extends the protcol must implement the rules of the protocol"
      ]
    },
    {
      "cell_type": "code",
      "metadata": {
        "id": "Acn4N3MAT6Se",
        "colab_type": "code",
        "outputId": "ca720d0c-e84a-4a0a-9ecf-d859ab7e6e1b",
        "colab": {
          "base_uri": "https://localhost:8080/",
          "height": 35
        }
      },
      "source": [
        "\n",
        "class LitteratureStudent: Student {\n",
        "  var name: String = \"\"\n",
        "  var age : Int = 0 \n",
        "  \n",
        "  init(name: String, age: Int){\n",
        "    self.name = name\n",
        "    self.age = age \n",
        "  }\n",
        "  \n",
        "  func getDegree() -> String {\n",
        "    return \"Litterature!\"\n",
        "  }\n",
        "}\n",
        "\n",
        "let student = LitteratureStudent(name: \"Marta\", age: 20)\n",
        "student.getDegree()\n",
        "// Prints \"Litterature!\"\n",
        "  "
      ],
      "execution_count": 0,
      "outputs": [
        {
          "output_type": "execute_result",
          "data": {
            "text/plain": [
              "\"Litterature!\"\n"
            ]
          },
          "metadata": {
            "tags": []
          },
          "execution_count": 42
        }
      ]
    },
    {
      "cell_type": "markdown",
      "metadata": {
        "id": "t4NK08W9_gm_",
        "colab_type": "text"
      },
      "source": [
        "It's a good moment to introduce error handling."
      ]
    },
    {
      "cell_type": "markdown",
      "metadata": {
        "id": "HFJ5QAAO_VZD",
        "colab_type": "text"
      },
      "source": [
        "## Error Handling"
      ]
    },
    {
      "cell_type": "markdown",
      "metadata": {
        "id": "AygoMe7N_blP",
        "colab_type": "text"
      },
      "source": [
        "You represent errors using any type that adopts the `Error protocol`:\n",
        "\n"
      ]
    },
    {
      "cell_type": "code",
      "metadata": {
        "id": "LvPDCE-e_2AX",
        "colab_type": "code",
        "colab": {}
      },
      "source": [
        "enum PrinterError: Error {\n",
        "    case outOfPaper\n",
        "    case noToner\n",
        "    case onFire\n",
        "    case feelingLazy(String)\n",
        "}"
      ],
      "execution_count": 0,
      "outputs": []
    },
    {
      "cell_type": "markdown",
      "metadata": {
        "id": "nHxs7fnrAGUF",
        "colab_type": "text"
      },
      "source": [
        "You can then use `throw` to throw an error.\n",
        "If you throw an error in a function, the function returns immediately and the code that called the function handles the error. \n",
        "\n",
        "When a function can potentially throw an error, you must add `throws` keyword after the function parameters:"
      ]
    },
    {
      "cell_type": "code",
      "metadata": {
        "id": "kSh_dcYMA4k6",
        "colab_type": "code",
        "colab": {}
      },
      "source": [
        "func send(job: Int, toPrinter printerName: String) throws -> String {\n",
        "    if printerName.count > 11 {\n",
        "        throw PrinterError.feelingLazy(\"That name's too long for me.\")\n",
        "    }\n",
        "    return \"Job sent\"\n",
        "}\n"
      ],
      "execution_count": 0,
      "outputs": []
    },
    {
      "cell_type": "markdown",
      "metadata": {
        "id": "ngImHkuBBhTh",
        "colab_type": "text"
      },
      "source": [
        "Most of the times, to handle errors you can either use a `do-catch` loop or use `try?`. \n",
        "\n",
        "In the `do-catch` case, you mark code that can throw an error by writing `try` in front of it. \n"
      ]
    },
    {
      "cell_type": "code",
      "metadata": {
        "id": "JGSXX7PkCSUu",
        "colab_type": "code",
        "outputId": "4e7d1908-f73d-4faa-bf64-1aa20f06c81b",
        "colab": {
          "base_uri": "https://localhost:8080/",
          "height": 34
        }
      },
      "source": [
        "do {\n",
        "    let printerResponse = try send(job: 4242, toPrinter: \"DeepThought\")\n",
        "    print(printerResponse)\n",
        "} catch PrinterError.onFire {\n",
        "    print(\"I'll cool down first.\")\n",
        "\n",
        "} catch PrinterError.feelingLazy(let msg) {\n",
        "    print(msg)\n",
        "} catch let printerError as PrinterError {\n",
        "    print(\"Printer error: \\(printerError).\")\n",
        "} catch {\n",
        "    print(error)\n",
        "}\n",
        "\n",
        "// Prints Job sent"
      ],
      "execution_count": 0,
      "outputs": [
        {
          "output_type": "stream",
          "text": [
            "Job sent\r\n"
          ],
          "name": "stdout"
        }
      ]
    },
    {
      "cell_type": "markdown",
      "metadata": {
        "id": "RhEToKibCOIH",
        "colab_type": "text"
      },
      "source": [
        "\n",
        "\n",
        "When using `try?`, the compiler will try to convert the result into an `optional`. If the function throws an error, the specific error is discarded and the result is nil. Otherwise, the result is an optional containing the value that the function returned."
      ]
    },
    {
      "cell_type": "code",
      "metadata": {
        "id": "5_gWVjD6DdXZ",
        "colab_type": "code",
        "outputId": "6aee131b-9733-4187-f329-ce3708db17c0",
        "colab": {
          "base_uri": "https://localhost:8080/",
          "height": 50
        }
      },
      "source": [
        "let printerSuccess = try? send(job: 4242, toPrinter: \"DeepThought\")\n",
        "let printerFailure = try? send(job: 4343, toPrinter: \"Wolfeschlegelsteinhausenbergerdorff\")\n",
        "\n",
        "print(printerSuccess)\n",
        "// Prints Optional(\"Job sent\")\n",
        "\n",
        "print(printerFailure)\n",
        "// Prints nil"
      ],
      "execution_count": 0,
      "outputs": [
        {
          "output_type": "stream",
          "text": [
            "Optional(\"Job sent\")\r\n",
            "nil\r\n"
          ],
          "name": "stdout"
        }
      ]
    },
    {
      "cell_type": "markdown",
      "metadata": {
        "id": "2dXDTcVgM0aj",
        "colab_type": "text"
      },
      "source": [
        "## Operator Overloading"
      ]
    },
    {
      "cell_type": "markdown",
      "metadata": {
        "id": "kWj4p9NPF-xw",
        "colab_type": "text"
      },
      "source": [
        "Swift lets you overload operators. Suppose you create a custom class and want to define the addition (operator `+`) to work with it. In that case, you overloading the `+` operator will result in the desired behaviour."
      ]
    },
    {
      "cell_type": "code",
      "metadata": {
        "id": "3r_t9dTRM3WA",
        "colab_type": "code",
        "outputId": "a089c869-d8ec-417f-960f-ef1836d37bf4",
        "colab": {
          "base_uri": "https://localhost:8080/",
          "height": 35
        }
      },
      "source": [
        "struct Vector2D {\n",
        "    var x = 0.0, y = 0.0\n",
        "}\n",
        "\n",
        "extension Vector2D {\n",
        "    static func +(left: Vector2D, right: Vector2D) -> Vector2D {\n",
        "        return Vector2D(x: left.x + right.x, y: left.y + right.y)\n",
        "    }\n",
        "}\n",
        "\n",
        "var w = Vector2D(x:1, y:1)\n",
        "// var w = Vector2D(x:1.0, y:1.5)\n",
        "var z = Vector2D(x:1.2, y:4.0)\n",
        "\n",
        "print(w + z)\n",
        "// Prints Vector2D(x: 2.2, y: 5.5)"
      ],
      "execution_count": 0,
      "outputs": [
        {
          "output_type": "stream",
          "text": [
            "Vector2D(x: 2.2, y: 5.0)\r\n"
          ],
          "name": "stdout"
        }
      ]
    },
    {
      "cell_type": "markdown",
      "metadata": {
        "id": "BCpWt8IYJbPi",
        "colab_type": "text"
      },
      "source": [
        "## Generics\n",
        "\n",
        "Since Swift is a typed language, you might end up rewriting the same functions to work with different input types. The best way to understand the power of generics is through examples. So let's build a [stack data structure](https://www.geeksforgeeks.org/stack-data-structure/).\n",
        " \n",
        "\n"
      ]
    },
    {
      "cell_type": "code",
      "metadata": {
        "id": "e42seVCxHycb",
        "colab_type": "code",
        "outputId": "1fa8cc83-479e-431d-ead2-8a12dec914ac",
        "colab": {
          "base_uri": "https://localhost:8080/",
          "height": 52
        }
      },
      "source": [
        "struct Stack {\n",
        "  var items = [Int]()\n",
        "\n",
        "  /**\n",
        "  * `mutating` keyword tells Swift's compiler \n",
        "  * that the method can modify properties \n",
        "  * of Stack (i.e. items)\n",
        "  */\n",
        "  mutating func push(_ element: Int) {\n",
        "     items.append(element)\n",
        "  }\n",
        "\n",
        "  mutating func pop() -> Int? { // NB: the return type is optional\n",
        "     if !items.isEmpty {\n",
        "           return items.removeLast()\n",
        "        }\n",
        "     return nil \n",
        "  }\n",
        "}\n",
        "\n",
        "var stack = Stack()\n",
        "stack.push(1)\n",
        "stack.push(4)\n",
        "stack.push(3)\n",
        "print(stack)\n",
        "// Prints Stack(items: [1, 4, 3])\n",
        "print(stack.pop()!) // \"!\" forces to unwrap the optional value returned by pop()\n",
        "// Prints 3\n"
      ],
      "execution_count": 0,
      "outputs": [
        {
          "output_type": "stream",
          "text": [
            "Stack(items: [1, 4, 3])\r\n",
            "3\r\n"
          ],
          "name": "stdout"
        }
      ]
    },
    {
      "cell_type": "markdown",
      "metadata": {
        "id": "kRKhi8CjHwwZ",
        "colab_type": "text"
      },
      "source": [
        "This stack will only work when provided inputs of type `Int`. What if, for some reasons, we also need a stack of to hold `Strings`? Rewriting `struct Stack` replacing `Int` with `String` would be fast but we can do better.\n",
        "\n"
      ]
    },
    {
      "cell_type": "code",
      "metadata": {
        "id": "ktStuTHVxFGW",
        "colab_type": "code",
        "colab": {}
      },
      "source": [
        "struct Stack {\n",
        "  var items = [String]()\n",
        "\n",
        "  mutating func push(_ element: String {\n",
        "     items.append(element)\n",
        "  }\n",
        "\n",
        "  mutating func pop() -> String? {\n",
        "     if !items.isEmpty {\n",
        "           return items.removeLast()\n",
        "        }\n",
        "     return nil \n",
        "  }\n",
        "}"
      ],
      "execution_count": 0,
      "outputs": []
    },
    {
      "cell_type": "markdown",
      "metadata": {
        "id": "HxVdbdkHxEDO",
        "colab_type": "text"
      },
      "source": [
        "Swift solves this issue with [Generics](https://docs.swift.org/swift-book/LanguageGuide/Generics.html).\n",
        "Much of the Swift standard library is built with generic code. You’ve been using generics throughout this guide, even if you didn’t realize it. Both Swift’s Array and Dictionary types are generic collections. As a matter of fact, both requires you to specify the type held by the collections.\n",
        "\n",
        "Use `<>` to represent a generic type. Let's see this in practice by refactoring our `Stack`:"
      ]
    },
    {
      "cell_type": "code",
      "metadata": {
        "id": "EDlvZtHioxN7",
        "colab_type": "code",
        "outputId": "bdb0ab52-0cfa-4c58-9d0d-26df0a749c97",
        "colab": {
          "base_uri": "https://localhost:8080/",
          "height": 52
        }
      },
      "source": [
        "struct Stack<T> {\n",
        "  var items = [T]() // empty stack of type T\n",
        "\n",
        "  /**\n",
        "  * `mutating` keyword tells Swift's compiler \n",
        "  * that the method can modify properties \n",
        "  * of Stack (i.e. items)\n",
        "  */\n",
        "  mutating func push(_ element: T) {\n",
        "     items.append(element)\n",
        "  }\n",
        "\n",
        "  mutating func pop() -> T? { // NB: the return type is optional\n",
        "     if !items.isEmpty {\n",
        "           return items.removeLast()\n",
        "        }\n",
        "    return nil \n",
        "  }\n",
        "}\n",
        "\n",
        "var stack: Stack<Int> = Stack()\n",
        "stack.push(1)\n",
        "stack.push(4)\n",
        "stack.push(3)\n",
        "print(stack)\n",
        "// Prints Stack<Int>(items: [1, 4, 3])\n",
        "print(stack.pop()!) // \"!\" forces to unwrap the optional value returned by pop\n",
        "// Prints 3"
      ],
      "execution_count": 0,
      "outputs": [
        {
          "output_type": "stream",
          "text": [
            "Stack<Int>(items: [1, 4, 3])\r\n",
            "3\r\n"
          ],
          "name": "stdout"
        }
      ]
    },
    {
      "cell_type": "markdown",
      "metadata": {
        "id": "fUAtjw8Tt6ez",
        "colab_type": "text"
      },
      "source": [
        "We now covered the most important pieces of Swift to get started a good understanding of any Swift code (keeping the official docs at hand). Let's now advance toward machine learning with Swift starting with Python."
      ]
    },
    {
      "cell_type": "markdown",
      "metadata": {
        "id": "TCJsrljXGAMc",
        "colab_type": "text"
      },
      "source": [
        "# Tensorflow"
      ]
    },
    {
      "cell_type": "markdown",
      "metadata": {
        "id": "l8O9lnvRF9oM",
        "colab_type": "text"
      },
      "source": [
        "What follows is neither meant to be an introduction to S4TF nor a general introduction to neural networks. Instead, the objective is to show how you can easily implement neural networks in Swift. With the little knowledge acquired in this guide, you should be able to mostly understand what's coming next. If, however, it still does not click, no worries. Get a feel for it, get more familiarity with Swift and come back to it.\n",
        "\n",
        "Let's start with Python integration."
      ]
    },
    {
      "cell_type": "markdown",
      "metadata": {
        "id": "ifoYXlSLc9np",
        "colab_type": "text"
      },
      "source": [
        "## Python Integration\n",
        "\n",
        "It is easy to [call python modules in Swift](https://www.tensorflow.org/swift/tutorials/python_interoperability). Let's try `numpy`:\n",
        "\n",
        "PERFORMANCE??\n",
        "DOES IT TRANSPILE INTO PYTHON? INTO C???"
      ]
    },
    {
      "cell_type": "code",
      "metadata": {
        "id": "A8TKAQB9CBZb",
        "colab_type": "code",
        "outputId": "fe381af7-3896-4fc1-b616-96ead4f0d910",
        "colab": {
          "base_uri": "https://localhost:8080/",
          "height": 50
        }
      },
      "source": [
        "// comment so that Colab does not interpret `#if ...` as a comment\n",
        "#if canImport(PythonKit)\n",
        "    import PythonKit\n",
        "#else\n",
        "    import Python\n",
        "#endif\n",
        "print(Python.version)"
      ],
      "execution_count": 0,
      "outputs": [
        {
          "output_type": "stream",
          "text": [
            "3.6.9 (default, Nov  7 2019, 10:44:02) \r\n",
            "[GCC 8.3.0]\r\n"
          ],
          "name": "stdout"
        }
      ]
    },
    {
      "cell_type": "code",
      "metadata": {
        "id": "GKS7nCmcb1Bo",
        "colab_type": "code",
        "outputId": "196ab870-af5a-45cc-dba7-f0ae3581733d",
        "colab": {
          "base_uri": "https://localhost:8080/",
          "height": 118
        }
      },
      "source": [
        "import Python\n",
        "let np = Python.import(\"numpy\")\n",
        "\n",
        "let exp = np.exp(0) * np.exp(1)\n",
        "print(exp)\n",
        "\n",
        "let zeros = np.ones([2, 3])\n",
        "print(zeros)\n",
        "\n",
        "let numpyArray = np.ones([4], dtype: np.float32)\n",
        "print(\"Swift type:\", type(of: numpyArray))\n",
        "print(\"Python type:\", Python.type(numpyArray))\n",
        "print(numpyArray.shape)\n",
        "\n"
      ],
      "execution_count": 0,
      "outputs": [
        {
          "output_type": "stream",
          "text": [
            "2.718281828459045\r\n",
            "[[1. 1. 1.]\r\n",
            " [1. 1. 1.]]\r\n",
            "Swift type: PythonObject\r\n",
            "Python type: <class 'numpy.ndarray'>\r\n",
            "(4,)\r\n"
          ],
          "name": "stdout"
        }
      ]
    },
    {
      "cell_type": "markdown",
      "metadata": {
        "id": "EZvODBBtBpj_",
        "colab_type": "text"
      },
      "source": [
        "What about matplotlib?"
      ]
    },
    {
      "cell_type": "code",
      "metadata": {
        "id": "SDclvqaiUPI4",
        "colab_type": "code",
        "outputId": "f2a54b8d-c2d0-4d73-8066-dce7f76e7ece",
        "colab": {
          "base_uri": "https://localhost:8080/",
          "height": 35
        }
      },
      "source": [
        "// This cell is here to display plots inside a Jupyter Notebook.\n",
        "// Do not copy it into another environment.\n",
        "%include \"EnableIPythonDisplay.swift\"\n",
        "IPythonDisplay.shell.enable_matplotlib(\"inline\")"
      ],
      "execution_count": 0,
      "outputs": [
        {
          "output_type": "execute_result",
          "data": {
            "text/plain": [
              "('inline', 'module://ipykernel.pylab.backend_inline')\n"
            ]
          },
          "metadata": {
            "tags": []
          },
          "execution_count": 13
        }
      ]
    },
    {
      "cell_type": "code",
      "metadata": {
        "id": "zj0TeVcIBs2A",
        "colab_type": "code",
        "outputId": "8c5449e9-819e-40a5-f6c8-959e64caf37b",
        "colab": {
          "base_uri": "https://localhost:8080/",
          "height": 282
        }
      },
      "source": [
        "let np = Python.import(\"numpy\")\n",
        "let plt = Python.import(\"matplotlib.pyplot\")\n",
        "\n",
        "// evenly sampled time at 200ms intervals\n",
        "let time = np.arange(0, 5, 0.2)\n",
        "\n",
        "// red dashes, blue squares and green triangles\n",
        "\n",
        "plt.plot(time, time, \"r--\", time, time*time, \"bs\", time, time * time * time, \"g^\")\n",
        "plt.show()\n",
        "// let amplitude = np.exp(-0.1 * time)\n",
        "// let position = amplitude * np.sin(3 * time)\n",
        "\n",
        "// plt.figure(figsize: [15, 10])\n",
        "\n",
        "// plt.plot(time, position)\n",
        "// plt.plot(time, amplitude)\n",
        "// plt.plot(time, -amplitude)\n",
        "\n",
        "// plt.xlabel(\"Time (s)\")\n",
        "// plt.ylabel(\"Position (m)\")\n",
        "// plt.title(\"Oscillations\")\n",
        "\n",
        "// plt.show()"
      ],
      "execution_count": 0,
      "outputs": [
        {
          "output_type": "display_data",
          "data": {
            "image/png": "[encoded data removed]",
            "text/plain": [
              "<Figure size 432x288 with 1 Axes>"
            ]
          },
          "metadata": {
            "tags": [],
            "needs_background": "light"
          }
        },
        {
          "output_type": "execute_result",
          "data": {
            "text/plain": [
              "None\n"
            ]
          },
          "metadata": {
            "tags": []
          },
          "execution_count": 53
        }
      ]
    },
    {
      "cell_type": "markdown",
      "metadata": {
        "id": "WK9y9eKfaab6",
        "colab_type": "text"
      },
      "source": [
        "## Differentiation\n",
        "\n",
        "https://github.com/apple/swift/blob/master/docs/DifferentiableProgramming.md\n",
        "\n",
        "Derivatives are a fundamental tool of calculus. For example, the derivative of the position of a moving object with respect to time is the object's velocity: this measures how quickly the position of the object changes when time advances. Differentiation is the process of deriving a function. It is at the very heart of [backpropagation](https://en.wikipedia.org/wiki/Backpropagation). Thus it plays a crucial role in deep learning.\n",
        "\n",
        "\n",
        "A new Swift’s feature new let you take arbitrary Swift code and (if possible)automatically calculate its gradient. You can do the same with PyTorch and TensorFlow, but it's neither native nor as lightweight as in Swift. \n",
        "\n",
        "You can easily define a differentiable function by using `@differentiable` keyword:"
      ]
    },
    {
      "cell_type": "code",
      "metadata": {
        "id": "N1zx_B_VaeRd",
        "colab_type": "code",
        "outputId": "655839a2-6c21-467e-c71b-16bd764801a1",
        "colab": {
          "base_uri": "https://localhost:8080/",
          "height": 34
        }
      },
      "source": [
        "/**\n",
        " No imports, just plain Swift 😎\n",
        " **/\n",
        "@differentiable\n",
        "func power2(_ x:Double) -> Double{\n",
        "  return x * x\n",
        "}\n",
        "\n",
        "gradient(at:0.5) {x in power2(x)}\n",
        "// Prints 1.0\n",
        "// NB: grad(x*x) = 2*x \n",
        "//     => grad(0.5*0.5) = 2*0.5 = 1"
      ],
      "execution_count": 0,
      "outputs": [
        {
          "output_type": "execute_result",
          "data": {
            "text/plain": [
              "1.0\n"
            ]
          },
          "metadata": {
            "tags": []
          },
          "execution_count": 9
        }
      ]
    },
    {
      "cell_type": "markdown",
      "metadata": {
        "id": "MRFPBbV7FZ5m",
        "colab_type": "text"
      },
      "source": [
        "Let's put everything we say in practice by finally using [S4TF](https://www.tensorflow.org/swift/tutorials/model_training_walkthrough) to build a neural network."
      ]
    },
    {
      "cell_type": "markdown",
      "metadata": {
        "id": "y_n538Im0_bY",
        "colab_type": "text"
      },
      "source": [
        "## Neural Network (NN)\n",
        "\n",
        "As neural network first example, let's build an *XOR* classifier. *XOR* stands for *exclusive or*. It is a logical operation that outputs true only when inputs differ (one is true, the other is false). \n",
        "\n",
        "// TABLE WITH RESULTS\n",
        "\n",
        "\n",
        "Digital gates are the hardware implementation of logical operators such as *NOT*, *OR*, *XOR*.\n",
        "\n",
        "//XOR GATE IMAGE\n",
        "https://commons.wikimedia.org/wiki/File:Logic-gate-xor-us.png\n",
        "\n",
        "In the context or neural networks, we want to predict the outputs of *XOR* logic gates given two binary inputs.\n",
        "\n",
        "Let's start with Tensors."
      ]
    },
    {
      "cell_type": "markdown",
      "metadata": {
        "id": "p8GpL0gRlZUY",
        "colab_type": "text"
      },
      "source": [
        "###**Tensors**"
      ]
    },
    {
      "cell_type": "markdown",
      "metadata": {
        "id": "yoMxBgHipbGR",
        "colab_type": "text"
      },
      "source": [
        "A [tensor](https://www.tensorflow.org/guide/tensor) is a generalization of vectors and matrices to potentially higher dimensions. In S4TF, the syntax is similar to the one in Python:"
      ]
    },
    {
      "cell_type": "code",
      "metadata": {
        "id": "w7Nq3qUzmLXc",
        "colab_type": "code",
        "colab": {}
      },
      "source": [
        "import TensorFlow\n",
        "\n",
        "var X: Tensor<Float> = [[0.0, 0.0], [1.0, 0.0], [0.0, 1.0], [1.0, 1.0]]\n",
        "var y: Tensor<Float> = [0, 1, 1, 0]"
      ],
      "execution_count": 0,
      "outputs": []
    },
    {
      "cell_type": "markdown",
      "metadata": {
        "id": "W2sICW4PlbsG",
        "colab_type": "text"
      },
      "source": [
        "###**Model**\n",
        "\n",
        "In machine learning, a model is a function with learnable parameters that maps an input to an output. The optimal parameters are obtained by training the model on data. A well-trained model will provide an accurate mapping from the input to the desired output.\n",
        "\n",
        "Deep learning takes it name from the fact that the models are learned by the machine are longer. In practice, this means that the input passes through an arbitrary series of layers until it gets out of the last layer also known as output layer. All the layers nested inside the model which do not directly receive the input or produce the output are called **hidden layers**.\n",
        "\n",
        "// IMAGE DEEP LEARNING\n",
        "\n",
        "Let's create a neural network with one hidden layer."
      ]
    },
    {
      "cell_type": "code",
      "metadata": {
        "id": "Wk4fHfPun9MS",
        "colab_type": "code",
        "colab": {}
      },
      "source": [
        "// import TensorFlow\n",
        "let hiddenSize: Int = 10\n",
        "\n",
        "// Neural Network has a struct containing layers\n",
        "struct NeuralNet: Layer { // Extends the Layer type provided by S4TF\n",
        "    var layer1 = Dense<Float>(inputSize: 2, outputSize: hiddenSize, activation: relu)\n",
        "    var layer2 = Dense<Float>(inputSize: hiddenSize, outputSize: 1)  // hidden layer\n",
        "  \n",
        "    @differentiable // tells swift compiler these function can be derived\n",
        "    func callAsFunction(_ input: Tensor<Float>) -> Tensor<Float> {\n",
        "        return input.sequenced(through: layer1, layer2)\n",
        "    }\n",
        "}\n",
        "\n",
        "var model = NeuralNet()"
      ],
      "execution_count": 0,
      "outputs": []
    },
    {
      "cell_type": "markdown",
      "metadata": {
        "id": "VcoThy6S-69d",
        "colab_type": "text"
      },
      "source": [
        "Once defined the model, we need an optimizer.\n",
        "An optimizer applies the **computed gradients** to the model's variables to minimize the loss function. S4TF offers many optimization algorithm. Let's try the [stochastic gradient descent](https://en.wikipedia.org/wiki/Stochastic_gradient_descent) (SGD)."
      ]
    },
    {
      "cell_type": "code",
      "metadata": {
        "id": "Qx5fu_JfpPpz",
        "colab_type": "code",
        "colab": {}
      },
      "source": [
        "let optimizer = SGD(for: model, learningRate: 0.05)"
      ],
      "execution_count": 0,
      "outputs": []
    },
    {
      "cell_type": "markdown",
      "metadata": {
        "id": "XL8HW950Bk-W",
        "colab_type": "text"
      },
      "source": [
        "The optimizer will be called at each iteration of the training. As a reminder, when training neural networks, we start with arbitrary model's weights. Then we perform a series of forward and backpropagation to compute an find a satisfying set weights. Each forward, back propagation step is accompanied by a call to the optimizer which updates the model weights for the subsequent steps.\n",
        "\n",
        "Let's see how the training work:"
      ]
    },
    {
      "cell_type": "markdown",
      "metadata": {
        "id": "4t1JAQf8ldme",
        "colab_type": "text"
      },
      "source": [
        "### Training"
      ]
    },
    {
      "cell_type": "code",
      "metadata": {
        "id": "e9zlOYUzpBt6",
        "colab_type": "code",
        "colab": {}
      },
      "source": [
        "let epochCount = 30 // nbr of training steps/epochs\n",
        "\n",
        "// TODO\n",
        "// func accuracy(predictions: Tensor<Int32>, truths: Tensor<Int32>) -> Float {\n",
        "//     return Tensor<Float>(predictions .== truths).mean().scalarized()\n",
        "// }\n",
        "\n",
        "// let X: Tensor<Float> = [[0, 0], [0, 1], [1, 0], [1, 1]]\n",
        "// let y: Tensor<Float> = [0, 1, 1, 0]\n",
        "\n",
        "for _ in 1...epochCount {\n",
        "  let 𝛁model = gradient(at: model) { (model: NeuralNet) -> Tensor<Float> in\n",
        "      let ŷ = model(X).withDerivative { print(\"∂L/∂ŷ =\", $0) }\n",
        "      let loss = (ŷ - y).squared().mean()\n",
        "      print(\"Loss: \\(loss)\")\n",
        "      return loss\n",
        "  }\n",
        "\n",
        "  //make an optimizer step \n",
        "  optimizer.update(&model, along: 𝛁model)\n",
        "}"
      ],
      "execution_count": 0,
      "outputs": []
    },
    {
      "cell_type": "markdown",
      "metadata": {
        "id": "7icUgPiKQVxZ",
        "colab_type": "text"
      },
      "source": [
        "Now that you trained your model, you can use it to predict the output of an XOR gate given its inputs.\n",
        " "
      ]
    },
    {
      "cell_type": "code",
      "metadata": {
        "id": "D3jexHTsRHaB",
        "colab_type": "code",
        "outputId": "3f31cbcf-208b-420e-9e1b-16c41977bb75",
        "colab": {
          "base_uri": "https://localhost:8080/",
          "height": 34
        }
      },
      "source": [
        "let pred = model(X)\n",
        "\n",
        "// print(pred)\n",
        "var predicted = [Bool]()\n",
        "let npred = pred.makeNumpyArray()\n",
        "\n",
        "for i in 0..<pred.shape[0] {\n",
        "\n",
        "  if npred[i][0] < 0.5 {\n",
        "      predicted.append(false)\n",
        "  } else {\n",
        "      predicted.append(true)\n",
        "  }\n",
        "}\n",
        "print(predicted)\n",
        "// Prints [false, true, true, false]\n",
        "    "
      ],
      "execution_count": 0,
      "outputs": [
        {
          "output_type": "stream",
          "text": [
            "[false, true, true, false]\r\n"
          ],
          "name": "stdout"
        }
      ]
    },
    {
      "cell_type": "markdown",
      "metadata": {
        "id": "dkjYMY1TR4VI",
        "colab_type": "text"
      },
      "source": [
        "Our model predicts that the inputs `[1,0]` and `[0,1]` will result in a positive output. In an XOR gate these are the only inputs resulting in a positive output."
      ]
    },
    {
      "cell_type": "markdown",
      "metadata": {
        "id": "Snub2EZdCKKb",
        "colab_type": "text"
      },
      "source": [
        "# References\n",
        "\n",
        "\n",
        "\n",
        "*   https://github.com/tensorflow/swift/blob/master/docs/WhySwiftForTensorFlow.md\n",
        "*   https://www.tensorflow.org/swift\n",
        "*   https://www.tensorflow.org/swift/tutorials/model_training_walkthrough\n",
        "*  https://colab.research.google.com/github/fastai/course-v3/blob/master/nbs/swift/00a_intro_and_float.ipynb#scrollTo=UCF8Po8TjK1L\n",
        "\n"
      ]
    }
  ]
}